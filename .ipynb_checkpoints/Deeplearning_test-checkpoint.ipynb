{
 "cells": [
  {
   "cell_type": "code",
   "execution_count": 1,
   "metadata": {},
   "outputs": [],
   "source": [
    "import sys\n",
    "import os\n",
    "import zipfile\n",
    "import random\n",
    "import tensorflow as tf\n",
    "from tensorflow.keras.optimizers import RMSprop\n",
    "from tensorflow.keras.preprocessing.image import ImageDataGenerator\n",
    "from shutil import copyfile\n",
    "from matplotlib import pyplot"
   ]
  },
  {
   "cell_type": "code",
   "execution_count": 2,
   "metadata": {},
   "outputs": [],
   "source": [
    "# !wget --no-check-certificate \\\n",
    "#     \"https://download.microsoft.com/download/3/E/1/3E1C3F21-ECDB-4869-8368-6DEBA77B919F/kagglecatsanddogs_3367a.zip\" \\\n",
    "#     -O \"/tmp/cats-and-dogs.zip\"\n",
    "\n",
    "# local_zip = '/tmp/cats-and-dogs.zip'\n",
    "# zip_ref   = zipfile.ZipFile(local_zip, 'r')\n",
    "# zip_ref.extractall('/tmp')\n",
    "# zip_ref.close()"
   ]
  },
  {
   "cell_type": "code",
   "execution_count": 3,
   "metadata": {},
   "outputs": [
    {
     "name": "stdout",
     "output_type": "stream",
     "text": [
      "250\n",
      "278\n"
     ]
    }
   ],
   "source": [
    "print(len(os.listdir('/tmp/PetImages/Cat/')))\n",
    "print(len(os.listdir('/tmp/PetImages/Dog/')))\n",
    "\n",
    "# Expected Output:\n",
    "# 12501\n",
    "# 12501"
   ]
  },
  {
   "cell_type": "code",
   "execution_count": 4,
   "metadata": {},
   "outputs": [],
   "source": [
    "try:\n",
    "    os.mkdir('/tmp/cats-v-dogs')\n",
    "    os.mkdir('/tmp/cats-v-dogs/train')\n",
    "    os.mkdir('/tmp/cats-v-dogs/test')\n",
    "    os.mkdir('/tmp/cats-v-dogs/train/cats')\n",
    "    os.mkdir('/tmp/cats-v-dogs/train/dogs')\n",
    "    os.mkdir('/tmp/cats-v-dogs/test/cats')\n",
    "    os.mkdir('/tmp/cats-v-dogs/test/dogs')\n",
    "except OSError:\n",
    "    pass"
   ]
  },
  {
   "cell_type": "code",
   "execution_count": 5,
   "metadata": {},
   "outputs": [],
   "source": [
    "def split_data(SOURCE, TRAINING, TESTING, SPLIT_SIZE):\n",
    "    files = []\n",
    "    for filename in os.listdir(SOURCE):\n",
    "        file = SOURCE + filename\n",
    "        if os.path.getsize(file) > 0:\n",
    "            files.append(filename)\n",
    "        else:\n",
    "            print(filename + \" is zero length, so ignoring.\")\n",
    "\n",
    "    training_length = int(len(files) * SPLIT_SIZE)\n",
    "    testing_length = int(len(files) - training_length)\n",
    "    shuffled_set = random.sample(files, len(files))\n",
    "    training_set = shuffled_set[0:training_length]\n",
    "    testing_set = shuffled_set[-testing_length:]\n",
    "\n",
    "    for filename in training_set:\n",
    "        this_file = SOURCE + filename\n",
    "        destination = TRAINING + filename\n",
    "        copyfile(this_file, destination)\n",
    "\n",
    "    for filename in testing_set:\n",
    "        this_file = SOURCE + filename\n",
    "        destination = TESTING + filename\n",
    "        copyfile(this_file, destination)"
   ]
  },
  {
   "cell_type": "code",
   "execution_count": 6,
   "metadata": {},
   "outputs": [],
   "source": [
    "CAT_SOURCE_DIR = \"/tmp/PetImages/Cat/\"\n",
    "TRAIN_CATS_DIR = \"/tmp/cats-v-dogs/train/cats/\" \n",
    "TEST_CATS_DIR = \"/tmp/cats-v-dogs/test/cats/\"\n",
    "DOG_SOURCE_DIR = \"/tmp/PetImages/Dog/\"\n",
    "TRAIN_DOGS_DIR = \"/tmp/cats-v-dogs/train/dogs/\"\n",
    "TEST_DOGS_DIR = \"/tmp/cats-v-dogs/test/dogs/\"\n",
    "\n",
    "split_size = .7\n",
    "split_data(CAT_SOURCE_DIR, TRAIN_CATS_DIR, TEST_CATS_DIR, split_size)\n",
    "split_data(DOG_SOURCE_DIR, TRAIN_DOGS_DIR, TEST_DOGS_DIR, split_size)\n",
    "\n",
    "# Expected output\n",
    "# 666.jpg is zero length, so ignoring\n",
    "# 11702.jpg is zero length, so ignoring"
   ]
  },
  {
   "cell_type": "code",
   "execution_count": 7,
   "metadata": {},
   "outputs": [
    {
     "name": "stdout",
     "output_type": "stream",
     "text": [
      "175\n",
      "194\n",
      "75\n",
      "84\n"
     ]
    }
   ],
   "source": [
    "\n",
    "print(len(os.listdir('/tmp/cats-v-dogs/train/cats/')))\n",
    "print(len(os.listdir('/tmp/cats-v-dogs/train/dogs/')))\n",
    "print(len(os.listdir('/tmp/cats-v-dogs/test/cats/')))\n",
    "print(len(os.listdir('/tmp/cats-v-dogs/test/dogs/')))\n",
    "\n",
    "# Expected output:\n",
    "# 11250\n",
    "# 11250\n",
    "# 1250\n",
    "# 1250"
   ]
  },
  {
   "cell_type": "code",
   "execution_count": 8,
   "metadata": {},
   "outputs": [],
   "source": [
    "#input dimension\n",
    "IMG_CHANNELS = 3\n",
    "IMG_ROWS = 150\n",
    "IMG_COLS = 150\n",
    "\n",
    "#constant\n",
    "BATCH_SIZE = 20\n",
    "EPOCHS = 5\n",
    "\n",
    "model = tf.keras.models.Sequential([\n",
    "    tf.keras.layers.Conv2D(16, (3, 3), activation='relu', input_shape=(IMG_ROWS, IMG_COLS, IMG_CHANNELS)),\n",
    "    tf.keras.layers.MaxPooling2D(2, 2),\n",
    "    tf.keras.layers.Conv2D(32, (3, 3), activation='relu'),\n",
    "    tf.keras.layers.MaxPooling2D(2, 2),\n",
    "    tf.keras.layers.Flatten(),\n",
    "    tf.keras.layers.Dense(128, activation='relu'),\n",
    "    tf.keras.layers.Dense(1, activation='sigmoid')\n",
    "])\n",
    "\n",
    "model.compile(optimizer=RMSprop(lr=0.001), loss='binary_crossentropy', metrics=['acc'])\n"
   ]
  },
  {
   "cell_type": "code",
   "execution_count": 9,
   "metadata": {},
   "outputs": [
    {
     "name": "stdout",
     "output_type": "stream",
     "text": [
      "Found 369 images belonging to 2 classes.\n",
      "Found 159 images belonging to 2 classes.\n"
     ]
    }
   ],
   "source": [
    "\n",
    "TRAIN_DIR = \"/tmp/cats-v-dogs/train/\"\n",
    "\n",
    "# 아래의 방법을 통해 이미지를 늘릴 수 있다. 아래는 이미지데이터를 시프트하거나 회전시켜서 같은 이미지를 뻥튀기 시키는 것이다.\n",
    "train_datagen = ImageDataGenerator(rescale=1.0/255.,\n",
    "        rotation_range=20,\n",
    "        width_shift_range=0.2,\n",
    "        height_shift_range=0.2,\n",
    "        shear_range=0.2,\n",
    "        zoom_range=0.2,\n",
    "        horizontal_flip=True,\n",
    "        fill_mode='nearest')\n",
    "#train_datagen = ImageDataGenerator(rescale=1.0/255.)\n",
    "train_generator = train_datagen.flow_from_directory(TRAIN_DIR, \n",
    "                                                    batch_size=BATCH_SIZE,\n",
    "                                                    class_mode='binary',\n",
    "                                                    target_size=(IMG_ROWS, IMG_COLS))\n",
    "\n",
    "TEST_DIR = \"/tmp/cats-v-dogs/test/\"\n",
    "validation_datagen = ImageDataGenerator(rescale=1.0/255.)\n",
    "validation_generator = validation_datagen.flow_from_directory(TEST_DIR,\n",
    "                                                              batch_size=BATCH_SIZE,\n",
    "                                                              class_mode='binary',\n",
    "                                                              target_size=(IMG_ROWS, IMG_COLS))\n",
    "\n",
    "# Expected Output:\n",
    "# Found 22498 images belonging to 2 classes.\n",
    "# Found 2500 images belonging to 2 classes."
   ]
  },
  {
   "cell_type": "code",
   "execution_count": 10,
   "metadata": {},
   "outputs": [
    {
     "data": {
      "text/plain": [
       "{'cats': 0, 'dogs': 1}"
      ]
     },
     "execution_count": 10,
     "metadata": {},
     "output_type": "execute_result"
    }
   ],
   "source": [
    "train_generator.class_indices"
   ]
  },
  {
   "cell_type": "code",
   "execution_count": 11,
   "metadata": {},
   "outputs": [
    {
     "name": "stdout",
     "output_type": "stream",
     "text": [
      "Epoch 1/5\n",
      "19/19 [==============================] - 3s 166ms/step - loss: 1.0682 - acc: 0.5799 - val_loss: 0.6304 - val_acc: 0.6541\n",
      "Epoch 2/5\n",
      "19/19 [==============================] - 3s 158ms/step - loss: 0.6793 - acc: 0.6396 - val_loss: 0.4938 - val_acc: 0.8176\n",
      "Epoch 3/5\n",
      "19/19 [==============================] - 3s 158ms/step - loss: 0.6093 - acc: 0.6965 - val_loss: 0.7023 - val_acc: 0.6667\n",
      "Epoch 4/5\n",
      "19/19 [==============================] - 3s 160ms/step - loss: 0.5316 - acc: 0.7453 - val_loss: 0.3882 - val_acc: 0.8176\n",
      "Epoch 5/5\n",
      "19/19 [==============================] - 3s 152ms/step - loss: 0.4989 - acc: 0.7642 - val_loss: 0.3373 - val_acc: 0.8616\n"
     ]
    }
   ],
   "source": [
    "history = model.fit(\n",
    "        train_generator,\n",
    "        steps_per_epoch= len(train_generator),        \n",
    "        validation_data=validation_generator,\n",
    "        validation_steps=len(validation_generator),\n",
    "        epochs=EPOCHS)"
   ]
  },
  {
   "cell_type": "code",
   "execution_count": 12,
   "metadata": {},
   "outputs": [
    {
     "name": "stdout",
     "output_type": "stream",
     "text": [
      "Test accuracy : 86.164\n"
     ]
    }
   ],
   "source": [
    "# evaluate model\n",
    "_, acc = model.evaluate(validation_generator, steps=len(validation_generator), verbose=0)\n",
    "print('Test accuracy : %.3f' % (acc * 100.0))"
   ]
  },
  {
   "cell_type": "code",
   "execution_count": 13,
   "metadata": {},
   "outputs": [],
   "source": [
    "# plot diagnostic learning curves\n",
    "def summarize_diagnostics(history):\n",
    "  # plot loss\n",
    "  # pyplot.subplot(211)\n",
    "  pyplot.title('Cross Entropy Loss')\n",
    "  pyplot.plot(history.history['loss'], color='blue', label='train')\n",
    "  pyplot.plot(history.history['val_loss'], color='orange', label='test')\n",
    "  pyplot.figure()\n",
    "\n",
    "  # plot accuracy\n",
    "  # pyplot.subplot(212)\n",
    "  pyplot.title('Classification Accuracy')\n",
    "  pyplot.plot(history.history['acc'], color='blue', label='train')\n",
    "  pyplot.plot(history.history['val_acc'], color='orange', label='test')\n",
    "  pyplot.figure()"
   ]
  },
  {
   "cell_type": "code",
   "execution_count": 14,
   "metadata": {},
   "outputs": [
    {
     "data": {
      "image/png": "[encoded data removed]",
      "text/plain": [
       "<Figure size 432x288 with 1 Axes>"
      ]
     },
     "metadata": {
      "needs_background": "light"
     },
     "output_type": "display_data"
    },
    {
     "data": {
      "image/png": "[encoded data removed]",
      "text/plain": [
       "<Figure size 432x288 with 1 Axes>"
      ]
     },
     "metadata": {
      "needs_background": "light"
     },
     "output_type": "display_data"
    },
    {
     "data": {
      "text/plain": [
       "<Figure size 432x288 with 0 Axes>"
      ]
     },
     "metadata": {},
     "output_type": "display_data"
    }
   ],
   "source": [
    "summarize_diagnostics(history)"
   ]
  },
  {
   "cell_type": "code",
   "execution_count": 15,
   "metadata": {},
   "outputs": [
    {
     "data": {
      "text/plain": [
       "'/tmp/saved_models/mymodel_1603525477.hdf5'"
      ]
     },
     "execution_count": 15,
     "metadata": {},
     "output_type": "execute_result"
    }
   ],
   "source": [
    "import time\n",
    "t = time.time()\n",
    "\n",
    "export_file = \"/tmp/saved_models/mymodel_{}.hdf5\".format(int(t))\n",
    "model.save(export_file)\n",
    "export_file"
   ]
  },
  {
   "cell_type": "code",
   "execution_count": 16,
   "metadata": {},
   "outputs": [],
   "source": [
    "reconstructed_model = tf.keras.models.load_model(export_file)"
   ]
  },
  {
   "cell_type": "code",
   "execution_count": 17,
   "metadata": {},
   "outputs": [
    {
     "name": "stdout",
     "output_type": "stream",
     "text": [
      "Test accuracy : 86.164\n"
     ]
    }
   ],
   "source": [
    "_, acc = reconstructed_model.evaluate(validation_generator, steps=len(validation_generator), verbose=0)\n",
    "print('Test accuracy : %.3f' % (acc * 100.0))"
   ]
  },
  {
   "cell_type": "code",
   "execution_count": null,
   "metadata": {},
   "outputs": [],
   "source": []
  }
 ],
 "metadata": {
  "kernelspec": {
   "display_name": "Python 3",
   "language": "python",
   "name": "python3"
  },
  "language_info": {
   "codemirror_mode": {
    "name": "ipython",
    "version": 3
   },
   "file_extension": ".py",
   "mimetype": "text/x-python",
   "name": "python",
   "nbconvert_exporter": "python",
   "pygments_lexer": "ipython3",
   "version": "3.8.3"
  }
 },
 "nbformat": 4,
 "nbformat_minor": 4
}
